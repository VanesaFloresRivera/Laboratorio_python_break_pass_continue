{
 "cells": [
  {
   "cell_type": "markdown",
   "metadata": {},
   "source": [
    "\n",
    "<div style=\"text-align: center;\">\n",
    "  <img src=\"https://github.com/Hack-io-Data/Imagenes/blob/main/01-LogosHackio/logo_celeste@4x.png?raw=true\" alt=\"esquema\" />\n",
    "</div>\n"
   ]
  },
  {
   "cell_type": "markdown",
   "metadata": {},
   "source": [
    "# Laboratorio de Python: break(), pass(), continue()"
   ]
  },
  {
   "cell_type": "markdown",
   "metadata": {},
   "source": [
    "## Ejercicio 1: Validación de datos numéricos. \n",
    "\n",
    "Escribe un bucle que lea una lista de números y detenga la ejecución si encuentra un valor negativo. Muestra un mensaje indicando el número negativo encontrado.\n"
   ]
  },
  {
   "cell_type": "code",
   "execution_count": 1,
   "metadata": {},
   "outputs": [
    {
     "name": "stdout",
     "output_type": "stream",
     "text": [
      "El número -2 es menor que 0, por lo tanto el bucle ha finalizado\n"
     ]
    }
   ],
   "source": [
    "lista_num = [1,2,3,4,-2,8,9,-5]\n",
    "\n",
    "for num in lista_num:\n",
    "    if num<0:\n",
    "        print(f'El número {num} es menor que 0, por lo tanto el bucle ha finalizado')\n",
    "        break"
   ]
  },
  {
   "cell_type": "markdown",
   "metadata": {},
   "source": [
    "\n",
    "## Ejercicio 2: Filtrado de datos\n",
    "\n",
    "Escribe un bucle que imprima los números de una lista, pero que omita los números pares.\n"
   ]
  },
  {
   "cell_type": "code",
   "execution_count": 5,
   "metadata": {},
   "outputs": [
    {
     "name": "stdout",
     "output_type": "stream",
     "text": [
      "1\n",
      "3\n",
      "9\n"
     ]
    }
   ],
   "source": [
    "lista_num2= [1,2,3,4,10,8,9,32]\n",
    "\n",
    "for num1 in lista_num2:\n",
    "    if num1%2 !=0:\n",
    "        print(num1)\n",
    "    else:\n",
    "        continue"
   ]
  },
  {
   "cell_type": "markdown",
   "metadata": {},
   "source": [
    "## Ejercicio 3: Búsqueda de un valor\n",
    "\n",
    "Escribe un programa que busque un valor específico en una lista y detenga la búsqueda cuando lo encuentre. Si se encuentra, muestra un mensaje.\n"
   ]
  },
  {
   "cell_type": "code",
   "execution_count": 54,
   "metadata": {},
   "outputs": [
    {
     "name": "stdout",
     "output_type": "stream",
     "text": [
      "el valor buscado zapatos no coincide con comida\n",
      "el valor buscado zapatos no coincide con bebida\n",
      "el valor buscado zapatos no coincide con ropa\n",
      "el valor buscado zapatos se ha encontrado en la lista de elementos\n"
     ]
    }
   ],
   "source": [
    "lista_elementos = ['comida', 'bebida', 'ropa', 'zapatos', 'cubiertos']\n",
    "valor_buscado =input(\"Introduzca el elemento a buscar\")\n",
    "\n",
    "for elemento in lista_elementos:\n",
    "    if valor_buscado==elemento:\n",
    "        print(f'el valor buscado {valor_buscado} se ha encontrado en la lista de elementos')\n",
    "        break\n",
    "    else:\n",
    "        print(f'el valor buscado {valor_buscado} no coincide con {elemento}')"
   ]
  },
  {
   "cell_type": "markdown",
   "metadata": {},
   "source": [
    "## Ejercicio 4: Estructura de código incompleto\n",
    "\n",
    "Define una función que aún no tenga lógica implementada, pero que se pueda ejecutar sin errores utilizando `pass`."
   ]
  },
  {
   "cell_type": "code",
   "execution_count": 14,
   "metadata": {},
   "outputs": [],
   "source": [
    "def función_dudosa():\n",
    "    pass"
   ]
  },
  {
   "cell_type": "code",
   "execution_count": 13,
   "metadata": {},
   "outputs": [],
   "source": [
    "función_dudosa()"
   ]
  },
  {
   "cell_type": "markdown",
   "metadata": {},
   "source": [
    "## Ejercicio 5: Validación condicional\n",
    "\n",
    "Escribe un bucle que verifique una lista de nombres. Si encuentra un nombre vacío (cadena vacía), salta esa iteración y continúa con los demás nombres.\n"
   ]
  },
  {
   "cell_type": "code",
   "execution_count": 26,
   "metadata": {},
   "outputs": [
    {
     "name": "stdout",
     "output_type": "stream",
     "text": [
      "María\n",
      "Jazmin\n",
      "Hugo\n",
      "Carla\n",
      "Vanesa\n"
     ]
    }
   ],
   "source": [
    "lista_nombres = [ 'María', 'Jazmin', 'Hugo', 'Carla','', 'Vanesa']\n",
    "lista_nombres\n",
    "for nombre in lista_nombres:\n",
    "    if len(nombre)==0:\n",
    "        continue\n",
    "    else:\n",
    "        print(nombre)\n"
   ]
  },
  {
   "cell_type": "markdown",
   "metadata": {},
   "source": [
    "## Ejercicio 6: Búsqueda de claves en un diccionario\n",
    "\n",
    "Escribe un programa que recorra un diccionario y detenga la búsqueda si encuentra una clave específica pasada por el usuario.\n"
   ]
  },
  {
   "cell_type": "code",
   "execution_count": null,
   "metadata": {},
   "outputs": [],
   "source": [
    "diccionario ={'comida':'arroz','bebida':'agua','ropa':'pantalón','zapatos':'zapatillas','cubiertos':'cuchillo'}\n",
    "clave_introducida= input(\"Por favor, introduzca la clave a buscar. Las opciones son comida, bebida, ropa, zapatos y cubiertos\")\n",
    "for clave in diccionario:\n",
    "    if clave == clave_introducida:\n",
    "        print(f\"La clave introducida {clave} aparece en el diccionario\")\n",
    "        break\n"
   ]
  },
  {
   "cell_type": "markdown",
   "metadata": {},
   "source": [
    "## Ejercicio 7: Bucle con múltiples excepciones\n",
    "\n",
    "Escribe un bucle que procese una lista de operaciones matemáticas, omitiendo las operaciones que intenten dividir por cero.\n"
   ]
  },
  {
   "cell_type": "code",
   "execution_count": 70,
   "metadata": {},
   "outputs": [
    {
     "name": "stdout",
     "output_type": "stream",
     "text": [
      "la suma del indice 0 de las dos listas es 13\n",
      "la suma del indice 1 de las dos listas es 5\n",
      "la suma del indice 2 de las dos listas es 8\n",
      "la suma del indice 3 de las dos listas es 10\n",
      "la suma del indice 4 de las dos listas es 19\n",
      "la resta del indice 0 de las dos listas es -3\n",
      "la resta del indice 1 de las dos listas es 1\n",
      "la resta del indice 2 de las dos listas es 8\n",
      "la resta del indice 3 de las dos listas es -6\n",
      "la resta del indice 4 de las dos listas es -1\n",
      "la multiplicación del indice 0 de las dos listas es 40\n",
      "la multiplicación del indice 1 de las dos listas es 6\n",
      "la multiplicación del indice 2 de las dos listas es 0\n",
      "la multiplicación del indice 3 de las dos listas es 16\n",
      "la multiplicación del indice 4 de las dos listas es 90\n",
      "la división del indice 0 de las dos listas es 0.625\n",
      "la división del indice 1 de las dos listas es 1.5\n",
      "la división del indice 3 de las dos listas es 0.25\n",
      "la división del indice 4 de las dos listas es 0.9\n"
     ]
    }
   ],
   "source": [
    "lista_operaciones = ['suma', 'resta', 'multiplicación', 'división']\n",
    "lista_num_1 = [5,3,8,2,9]\n",
    "lista_num_2 = [8,2,0,8,10]\n",
    "for operación in lista_operaciones:\n",
    "    for num2 in range(0,5):\n",
    "        if operación == 'suma':\n",
    "            Resultado = lista_num_1[num2]+lista_num_2[num2]\n",
    "            print(f'la suma del indice {num2} de las dos listas es {Resultado}')\n",
    "        elif operación == 'resta':\n",
    "            Resultado = lista_num_1[num2]-lista_num_2[num2]\n",
    "            print(f'la resta del indice {num2} de las dos listas es {Resultado}')\n",
    "        elif operación == 'multiplicación':\n",
    "            Resultado = lista_num_1[num2]*lista_num_2[num2]\n",
    "            print(f'la multiplicación del indice {num2} de las dos listas es {Resultado}')\n",
    "        else:\n",
    "            if lista_num_2[num2]==0:\n",
    "                continue\n",
    "            else: \n",
    "                Resultado = lista_num_1[num2]/lista_num_2[num2]\n",
    "                print(f'la división del indice {num2} de las dos listas es {Resultado}')\n",
    "  "
   ]
  },
  {
   "cell_type": "markdown",
   "metadata": {},
   "source": [
    "## Ejercicio 8: Búsqueda en una lista anidada\n",
    "\n",
    "Escribe un programa que recorra una lista de listas y detenga la búsqueda cuando encuentre un valor mayor a 50.\n"
   ]
  },
  {
   "cell_type": "code",
   "execution_count": null,
   "metadata": {},
   "outputs": [
    {
     "name": "stdout",
     "output_type": "stream",
     "text": [
      "1\n",
      "2\n"
     ]
    }
   ],
   "source": [
    "lista_anidada = [[1,2,53,0,5],[40,26,50,58,56]]\n",
    "\n",
    "for sublista in lista_anidada:\n",
    "    for elemento_sublista in sublista:\n",
    "        if elemento_sublista<=50:\n",
    "            print(elemento_sublista)\n",
    "        else:\n",
    "            break\n",
    "    if elemento_sublista>50:\n",
    "        break\n",
    "  "
   ]
  },
  {
   "cell_type": "markdown",
   "metadata": {},
   "source": [
    "## Ejercicio 9: Evaluación de series temporales\n",
    "\n",
    "Escribe un programa que recorra una lista de datos de series temporales y se detenga si encuentra un valor atípico (mayor a 100).\n"
   ]
  },
  {
   "cell_type": "code",
   "execution_count": 1,
   "metadata": {},
   "outputs": [
    {
     "name": "stdout",
     "output_type": "stream",
     "text": [
      "[0, 5, 10, 15, 20, 25, 30, 35, 40, 45, 50, 55, 60, 65, 70, 75, 80, 85, 90, 95, 100, 105, 110, 115, 120, 125, 130, 135, 140, 145]\n",
      "0\n",
      "5\n",
      "10\n",
      "15\n",
      "20\n",
      "25\n",
      "30\n",
      "35\n",
      "40\n",
      "45\n",
      "50\n",
      "55\n",
      "60\n",
      "65\n",
      "70\n",
      "75\n",
      "80\n",
      "85\n",
      "90\n",
      "95\n",
      "100\n",
      "la cadena se ha roto porque 105 es superior a 100\n"
     ]
    }
   ],
   "source": [
    "serie_temporal = []\n",
    "limite_maximo = 150\n",
    "for i in range (0,1000):\n",
    "    if i*5 < limite_maximo:\n",
    "        #print(i*5)\n",
    "        serie_temporal.append(i*5)\n",
    "        \n",
    "print(serie_temporal)\n",
    "\n",
    "for elemento in serie_temporal:\n",
    "    if elemento>100:\n",
    "        print(f'la cadena se ha roto porque {elemento} es superior a 100')\n",
    "        break\n",
    "    else:\n",
    "        print(elemento)"
   ]
  },
  {
   "cell_type": "markdown",
   "metadata": {},
   "source": [
    "## Ejercicio 10: Iteración con valores faltantes\n",
    "\n",
    "Crea un bucle que recorra una lista de datos de ventas y salte los valores faltantes representados por `None`."
   ]
  },
  {
   "cell_type": "code",
   "execution_count": 8,
   "metadata": {},
   "outputs": [
    {
     "name": "stdout",
     "output_type": "stream",
     "text": [
      "el valor de la venta es 100\n",
      "el valor de la venta es 300\n",
      "el valor de la venta es 800\n",
      "el valor de la venta es 1000\n",
      "el valor de la venta es 200\n",
      "el valor de la venta es 200\n"
     ]
    }
   ],
   "source": [
    "lista_ventas = [100, 300, 800, 1000, 200, None, 200]\n",
    "\n",
    "for valor_venta in lista_ventas:\n",
    "    if valor_venta !=None:\n",
    "        print(f'el valor de la venta es {valor_venta}')\n",
    "    else:\n",
    "        continue"
   ]
  },
  {
   "cell_type": "markdown",
   "metadata": {},
   "source": [
    "## Ejercicio 11: Control de flujo en bucles anidados\n",
    "\n",
    "Escribe un bucle que recorra la matriz dada y se detenga si se encuentra un número negativo, mostrando su posición.\n",
    "\n"
   ]
  },
  {
   "cell_type": "code",
   "execution_count": 15,
   "metadata": {},
   "outputs": [
    {
     "name": "stdout",
     "output_type": "stream",
     "text": [
      "la posicion del número negativo -2 es el indice0 subindice 1. Es decir: lista_4[0][1]\n"
     ]
    }
   ],
   "source": [
    "lista_4 = [[2,-2,5],[-3,8,9]]\n",
    "#lista_4[1]\n",
    "#ista_4[1][0]\n",
    "\n",
    "#list(enumerate(lista_4))\n",
    "\n",
    "for indice_i,elemento in enumerate(lista_4):\n",
    "    #print(indice_i, elemento)\n",
    "    for subindice_j,valor in enumerate(elemento):\n",
    "        #print(subindice_j,valor)\n",
    "        if valor<0:\n",
    "            print(f'la posicion del número negativo {valor} es el indice{indice_i} subindice {subindice_j}. Es decir: lista_4[{indice_i}][{subindice_j}]')\n",
    "            break\n",
    "    if valor<0:\n",
    "        break\n",
    "        \n"
   ]
  },
  {
   "cell_type": "markdown",
   "metadata": {},
   "source": [
    "## Ejercicio 12: Placeholder para funciones incompletas\n",
    "\n",
    "Escribe una función que tenga un bloque de control que aún no esté implementado, utilizando `pass` para que no genere errores."
   ]
  },
  {
   "cell_type": "code",
   "execution_count": 24,
   "metadata": {},
   "outputs": [],
   "source": [
    "lista_4 = [[2,-2,5],[-3,8,9]]\n",
    "#lista_4[1]\n",
    "#ista_4[1][0]\n",
    "\n",
    "\n",
    "#list(enumerate(lista_4))\n",
    "\n",
    "def num_negativo(lista_4):\n",
    "    lista_num_negativos =[]\n",
    "    for indice_i,elemento in enumerate(lista_4):\n",
    "        #print(indice_i, elemento)\n",
    "        for subindice_j,valor in enumerate(elemento):\n",
    "            #print(subindice_j,valor)\n",
    "            if valor<0:\n",
    "                lista_num_negativos.append(valor)\n",
    "            else:\n",
    "                pass\n",
    "    return lista_num_negativos"
   ]
  },
  {
   "cell_type": "code",
   "execution_count": 23,
   "metadata": {},
   "outputs": [
    {
     "data": {
      "text/plain": [
       "[-2, -3]"
      ]
     },
     "execution_count": 23,
     "metadata": {},
     "output_type": "execute_result"
    }
   ],
   "source": [
    "num_negativo(lista_4)"
   ]
  }
 ],
 "metadata": {
  "kernelspec": {
   "display_name": "Python 3",
   "language": "python",
   "name": "python3"
  },
  "language_info": {
   "codemirror_mode": {
    "name": "ipython",
    "version": 3
   },
   "file_extension": ".py",
   "mimetype": "text/x-python",
   "name": "python",
   "nbconvert_exporter": "python",
   "pygments_lexer": "ipython3",
   "version": "3.12.5"
  }
 },
 "nbformat": 4,
 "nbformat_minor": 2
}
